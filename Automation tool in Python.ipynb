{
 "cells": [
  {
   "cell_type": "markdown",
   "metadata": {},
   "source": [
    "# LUNA V2.0"
   ]
  },
  {
   "cell_type": "markdown",
   "metadata": {},
   "source": [
    "# Get the PD's info file"
   ]
  },
  {
   "cell_type": "code",
   "execution_count": 16,
   "metadata": {},
   "outputs": [
    {
     "name": "stdout",
     "output_type": "stream",
     "text": [
      "============PDS LISTS===============\n",
      "['elisa.espinosatiburcio@agoda.com', 'kevin.martinez@agoda.com', 'maturin.tanapun@agoda.com', 'patricia.trinidad@agoda.com']\n",
      "[0, 0, 0, 0]\n",
      "============Region & Country Base LISTS===============\n",
      "['Elisa tiburcio ', 'Kevin martinez', 'Maturin Tanapun', 'Patricia trinidad']\n",
      "['Hungary', 'Hungary', 'Thailand', 'Philippines ']\n",
      "{'Elisa tiburcio ': 1, 'Kevin martinez': 1, 'Maturin Tanapun': 1, 'Patricia trinidad': 1}\n",
      "{'Hungary': 2, 'Thailand': 1, 'Philippines ': 1}\n",
      "============LANGUAGE LISTS===============\n",
      "['English1', 'English1', 'Thai', 'Tagalog']\n",
      "['English', 'English', 'English', 'English']\n",
      "['English', 'English', 'English', 'English']\n",
      "[None, None, None, None]\n",
      "[None, None, None, None]\n",
      "============THE NUMBER OF LANGUAGE DICTIONARY===============\n",
      "{'English1': 2, 'Thai': 1, 'Tagalog': 1}\n",
      "{'English': 4}\n",
      "{'Spanish': 2, None: 2}\n",
      "{None: 4}\n",
      "{None: 4}\n",
      "============TIMEZONES===============\n",
      "[-94, -173, -11, -11]\n",
      "[90, -94, 178, 178]\n"
     ]
    }
   ],
   "source": [
    "import sys\n",
    "import openpyxl\n",
    "from openpyxl import load_workbook\n",
    "import statistics\n",
    "import pandas as pd\n",
    "import numpy as np\n",
    "\n",
    "#File Path\n",
    "input_file = openpyxl.load_workbook(\"/Users/donlee/Desktop/luna/ak.xlsx\")\n",
    "pds_info = openpyxl.load_workbook(\"/Users/donlee/Desktop/luna/pdf_allocation_info.xlsx\")\n",
    "lang_info = openpyxl.load_workbook(\"/Users/donlee/Desktop/luna/lang_dict_global_chain.xlsx\")\n",
    "#Sheet name\n",
    "sheet_input = input_file.active\n",
    "sheet_info = pds_info.active\n",
    "sheet_lang = lang_info.active\n",
    "\n",
    "#Get the number of sheet\n",
    "maxRow_input = sheet_input.max_row\n",
    "maxRow_info = sheet_info.max_row\n",
    "maxRow_lang = sheet_lang.max_row\n",
    "\n",
    "lang_dict = {}\n",
    "for i in range(2, maxRow_lang+1):\n",
    "    lang_dict[sheet_lang.cell(i,1).value] = sheet_lang.cell(i,2).value\n",
    "\n",
    "input_team='Global Chain'\n",
    "emps=[]\n",
    "emps_cnt=[]\n",
    "region_base=[]\n",
    "country_base=[]\n",
    "lang1=[]\n",
    "lang2=[]\n",
    "lang3=[]\n",
    "lang4=[]\n",
    "lang5=[]\n",
    "timezones_min=[]\n",
    "timezones_max=[]\n",
    "region_base_cnt={}\n",
    "country_base_cnt={}\n",
    "timezones_cnt_min={}\n",
    "timezones_cnt_max={}\n",
    "lang1Cnt={}\n",
    "lang2Cnt={}\n",
    "lang3Cnt={}\n",
    "lang4Cnt={}\n",
    "lang5Cnt={}\n",
    "emps_num=0\n",
    "\n",
    "# Get PDS info\n",
    "for i in range(2, maxRow_info+1):\n",
    "    if sheet_info.cell(i,2).value == input_team:\n",
    "        # PD's Email\n",
    "        emps.append(sheet_info.cell(i,4).value)\n",
    "        emps_cnt.append(0)\n",
    "        \n",
    "        # PD's region base\n",
    "        tmpRegion=sheet_info.cell(i,3).value\n",
    "        region_base.append(tmpRegion)\n",
    "        tmpRegion_count=region_base_cnt.get(tmpRegion)\n",
    "        if tmpRegion_count is None:\n",
    "            region_base_cnt[tmpRegion]=1\n",
    "        else:\n",
    "            region_base_cnt[tmpRegion]=tmpRegion_count+1\n",
    "            \n",
    "        # PD's Country base\n",
    "        tmpCountry=sheet_info.cell(i,6).value\n",
    "        country_base.append(tmpCountry)\n",
    "        tmpCountry_count=country_base_cnt.get(tmpCountry)\n",
    "        if tmpCountry_count is None:\n",
    "            country_base_cnt[tmpCountry]=1\n",
    "        else:\n",
    "            country_base_cnt[tmpCountry]=tmpCountry_count+1\n",
    "            \n",
    "        # Native language\n",
    "        tmpLang1=sheet_info.cell(i,10).value\n",
    "        lang1.append(tmpLang1)\n",
    "        tmpLang1Cnt=lang1Cnt.get(tmpLang1)\n",
    "        if tmpLang1Cnt is None:\n",
    "            lang1Cnt[tmpLang1]=1\n",
    "        else:\n",
    "            lang1Cnt[tmpLang1]=tmpLang1Cnt+1\n",
    "            \n",
    "        # Second Language\n",
    "        tmpLang2=sheet_info.cell(i,11).value\n",
    "        lang2.append(tmpLang2)\n",
    "        tmpLang2Cnt=lang2Cnt.get(tmpLang2)\n",
    "        if tmpLang2Cnt is None:\n",
    "            lang2Cnt[tmpLang2]=1\n",
    "        else:\n",
    "            lang2Cnt[tmpLang2]=tmpLang2Cnt+1\n",
    "            \n",
    "        # Third Language\n",
    "        tmpLang3=sheet_info.cell(i,12).value\n",
    "        lang3.append(tmpLang2)\n",
    "        tmpLang3Cnt=lang3Cnt.get(tmpLang3)\n",
    "        if tmpLang3Cnt is None:\n",
    "            lang3Cnt[tmpLang3]=1\n",
    "        else:\n",
    "            lang3Cnt[tmpLang3]=tmpLang3Cnt+1\n",
    "        \n",
    "        # Fourth Language\n",
    "        tmpLang4=sheet_info.cell(i,13).value\n",
    "        lang4.append(tmpLang4)\n",
    "        tmpLang4Cnt=lang4Cnt.get(tmpLang4)\n",
    "        if tmpLang4Cnt is None:\n",
    "            lang4Cnt[tmpLang4]=1\n",
    "        else:\n",
    "            lang4Cnt[tmpLang4]=tmpLang4Cnt+1\n",
    "        \n",
    "         # Fifth Language\n",
    "        tmpLang5=sheet_info.cell(i,14).value\n",
    "        lang5.append(tmpLang5)\n",
    "        tmpLang5Cnt=lang5Cnt.get(tmpLang5)\n",
    "        if tmpLang5Cnt is None:\n",
    "            lang5Cnt[tmpLang5]=1\n",
    "        else:\n",
    "            lang5Cnt[tmpLang5]=tmpLang5Cnt+1\n",
    "            \n",
    "        # Longitude Min\n",
    "        tmpTime_min=sheet_info.cell(i,17).value\n",
    "        timezones_min.append(tmpTime_min)\n",
    "        tmpTimeCnt_min=timezones_cnt_min.get(tmpTime_min)\n",
    "        if tmpTimeCnt_min is None:\n",
    "            timezones_cnt_min[tmpTime_min]=1\n",
    "        else:\n",
    "            timezones_cnt_min[tmpTime_min]=tmpTimeCnt_min+1\n",
    "            \n",
    "        # Longitude Max\n",
    "        tmpTime_max=sheet_info.cell(i,18).value\n",
    "        timezones_max.append(tmpTime_max)\n",
    "        tmpTimeCnt_max=timezones_cnt_max.get(tmpTime_max)\n",
    "        if tmpTimeCnt_max is None:\n",
    "            timezones_cnt_max[tmpTime_max]=1\n",
    "        else:\n",
    "            timezones_cnt_max[tmpTime_max]=tmpTimeCnt_max+1\n",
    "            \n",
    "print(\"============PDS LISTS===============\")\n",
    "print(emps)\n",
    "print(emps_cnt)\n",
    "print(\"============Region & Country Base LISTS===============\")\n",
    "print(region_base)\n",
    "print(country_base)\n",
    "print(region_base_cnt)\n",
    "print(country_base_cnt)\n",
    "print(\"============LANGUAGE LISTS===============\")\n",
    "print(lang1)\n",
    "print(lang2)\n",
    "print(lang3)\n",
    "print(lang4)\n",
    "print(lang5)\n",
    "print(\"============THE NUMBER OF LANGUAGE DICTIONARY===============\")\n",
    "print(lang1Cnt)\n",
    "print(lang2Cnt)\n",
    "print(lang3Cnt)\n",
    "print(lang4Cnt)\n",
    "print(lang5Cnt)\n",
    "print(\"============TIMEZONES===============\")\n",
    "print(timezones_min)\n",
    "print(timezones_max)\n"
   ]
  },
  {
   "cell_type": "markdown",
   "metadata": {},
   "source": [
    "# Get the user's input file"
   ]
  },
  {
   "cell_type": "code",
   "execution_count": 17,
   "metadata": {},
   "outputs": [],
   "source": [
    "# Get column names INPUT\n",
    "emps_num=len(emps)          \n",
    "loop_cnt=0\n",
    "country_index=-1\n",
    "longitude_index=-1\n",
    "pds_index=-1\n",
    "mp_index=-1\n",
    "num_of_pds = len(emps_cnt)\n",
    "allocation = maxRow_input / num_of_pds\n",
    "allocation = round(allocation)\n",
    "while True:\n",
    "    loop_cnt+=1\n",
    "    if sheet_input.cell(1,loop_cnt).value=='country_name':\n",
    "        country_index=loop_cnt\n",
    "    if sheet_input.cell(1,loop_cnt).value=='longitude':\n",
    "        longitude_index=loop_cnt  \n",
    "    if sheet_input.cell(1,loop_cnt).value=='PDS':\n",
    "        pds_index=loop_cnt  \n",
    "    if sheet_input.cell(1,loop_cnt).value=='MP':\n",
    "        mp_index=loop_cnt \n",
    "    if country_index > -1 and longitude_index > -1 and pds_index > -1 and mp_index > -1:\n",
    "        break"
   ]
  },
  {
   "cell_type": "markdown",
   "metadata": {},
   "source": [
    "# Sort MP"
   ]
  },
  {
   "cell_type": "code",
   "execution_count": 18,
   "metadata": {},
   "outputs": [
    {
     "name": "stdout",
     "output_type": "stream",
     "text": [
      "[2034514.4221, 203471.44555664016, 69108.12999999999, 67581.15, 46308.08, 40135.54888916009, 38311.910888671875, 35960.47122192379, 33554.43099975585, 32522, 31743.53, 30769.829999999998, 27990.68966674799, 23807.419555664015, 23717.33044433589, 22674.469833373994, 17428.32038879386, 16704.87066650384, 14210, 13952.119999999999, 13730.98994445797, 13508.949999999999, 12656.28, 12340.510055541941, 12330.5, 12194, 12117.56, 12047.48994445797, 11668.020111083973, 11577.930305480902, 11152.960000000001, 11094.719833373994, 11083.800277709886, 10581.479888915936, 10184.72, 9503.130000000001, 9339, 9109, 8938.930305480957, 8899.80027770996, 8389.290222167963, 8379.28016662597, 7876.959777832026, 7571.556579589838, 7381.01, 7036.119972229003, 6788.599999999999, 6767.67, 6720, 6678.489944458004, 6639.359916687006, 6589.310333251947, 6531.9800000000005, 6013.280166625968, 6011.459777832026, 5907.72, 5437.25, 5320.7699999999995, 5238, 4926, 4890.3401527404785, 4775.679958343503, 4709, 4660, 4637.359916687006, 4481.75, 4302, 4216.9400000000005, 4160.5199999999995, 4036.7599999999998, 3953.9500694274857, 3904.8099861145015, 3897.5299999999997, 3839, 3704.61, 3685.5, 3654.5599861145015, 3645, 3636, 3578.119972229002, 3523.5201110839816, 3513, 3485, 3439.7999999999997, 3429, 3385.2000694274857, 3376.0998611450113, 3234.14, 3167.710124969481, 3092.179958343503, 3064.880027770989, 3019.380027770989, 2992.080097198483, 2849.2099514007496, 2743, 2672.6700763702393, 2651.739944458004, 2582.5799236297607, 2563.000677108763, 2544, 2537.08, 2532.529993057246, 2530.7099514007496, 2499.77, 2494.309986114501, 2455, 2454.7441272735564, 2454.7441272735564, 2454.7441272735564, 2454.7441272735564, 2448.81, 2424.239944458004, 2392, 2375.100034713743, 2360.54, 2329, 2291.380027770989, 2215.850034713743, 2199.4700000000003, 2186, 2101.19001388549, 2082.989944458004, 2043.8599166870065, 2003.8200416564878, 1987, 1971.059986114501, 1950.1299999999999, 1948.31, 1921, 1916.4599514007493, 1915.5499305725057, 1890.98, 1846.3899999999999, 1829.8762340545595, 1769.9500694274855, 1745, 1742.6499999999999, 1739.92, 1734.4599999999998, 1641, 1612, 1571.57, 1566.1100000000001, 1536.0799236297607, 1512.4200763702393, 1468.74, 1448, 1400.4900312423658, 1394.1200000000001, 1394.119972229002, 1389.57, 1335.8800277709886, 1331.330010414122, 1330.419989585869, 1307.669989585869, 1270.360003471368, 1249, 1247, 1204.839979171747, 1204.839979171747, 1203.0200242996207, 1199, 1198.47, 1195, 1187, 1162.98, 1141.139996528623, 1113, 1110.2, 1083, 1051.9600381851196, 1038.31, 1037.4, 1024.660020828244, 1011, 1000.09, 948, 937.3000173568668, 929, 882.6999826431268, 879.97, 875.42, 868.1399965286248, 863.59, 859.9499826431268, 850.8500347137444, 831.7400312423703, 814.4499826431268, 808.9900312423703, 799.8899999999999, 798, 797.1600208282466, 786.24, 784, 783.51, 775, 769, 764.3999652862545, 741, 739, 713, 710.7099947929381, 705.25, 701.6100034713743, 694.3300104141229, 686.1399965286248, 667.03, 645.1900138854979, 633.3600034713743, 625.1699895858764, 623, 613.3399791717525, 609.7, 603, 591.5, 576.9399999999999, 576, 568.75, 567.8399791717525, 566, 564.1999826431268, 563, 562.38, 552.3700156211846, 550.5500173568722, 546.91, 542.3600034713743, 539.6299843788145, 536.9000086784362, 536, 529, 524.1600208282465, 515, 507.7799930572506, 491.40000000000003, 491, 475.9300017356867, 470, 463.190013885498, 461, 455, 443.1699895858763, 440, 437.7099947929382, 434.98, 403, 397, 394.0299930572506, 392.2099947929382, 388.5699982643124, 385.84000000000003, 381.290005207061, 377.65000000000003, 367, 360.3600034713743, 360.36, 354.9, 346.71, 345.8, 333.06000781059186, 332.1500086784361, 332.1500086784361, 324.86999392509387, 322.1399965286248, 314, 313, 312.13000607490517, 303.0299930572505, 299, 298, 297.5699982643124, 296.65999913215575, 294.84000086784334, 290.29, 289, 289, 286, 285.74000954627945, 283.92, 271.1800017356867, 270, 268.45, 262.99000954627945, 258, 258, 251.15999999999997, 251.15999999999997, 245.70000000000002, 234.77999305725052, 232.0499956607815, 225.6800017356867, 225, 224.77000260353003, 224.77000260353003, 221, 219.31, 217.49000954627945, 217, 215.66998958587627, 215, 215, 212.02999305725052, 211, 210.20999479293815, 209.29999999999998, 204.75, 202.02000260353003, 199.29000520706097, 199, 196.56, 195.65, 194, 189.27999305725052, 186.54999999999998, 186.5499956607815, 185.6399965286248, 179.27000260353, 171.98999869823407, 169.26000000000002, 169, 166, 164.71, 162.89000000000001, 161.9799973964691, 151.0599969625465, 150, 146.51000130176502, 146, 135, 127.39999783039075, 125.57999999999998, 124, 121.03, 116, 109.20000433921761, 108.29000520706096, 108.29000520706096, 107.38, 106.47, 104.64999783039075, 101.01000130176502, 98.28000390529594, 97.37000477313929, 96, 94.64, 90.09, 85, 84.63000065088269, 82.81000238656992, 82.81000238656992, 79.17000043392176, 76.43999761343, 75, 74, 73.71000021696084, 68.25, 66.42999999999999, 63, 62.78999978303907, 62.78999978303907, 61.88000065088269, 60.9700015187263, 60.970000000000006, 60.06000238656991, 59.14999783039092, 59.14999783039092, 58.23999869823454, 57.32999956607814, 56.420000433921764, 56.42, 51.87, 51.869999349117215, 51.869999349117215, 51.869999349117215, 47.32, 47.32, 47, 45.5, 45.5, 44.590000867843614, 43.68, 43.67999902367583, 43.67999902367583, 41, 36.4, 34.57999956607814, 33.670000433921764, 32.76000130176538, 32.76000130176538, 30.9400003254413, 30, 29.12, 29.119999349117222, 28.21, 26.389999999999997, 26.389999999999997, 25.480000108480372, 25.480000000000004, 23.66, 22.75, 20.930000379681573, 20.02, 19.11, 18.2, 17.29, 17.28999978303907, 16.38000065088269, 15.47000016272065, 12.740000054240186, 12.740000054240186, 12.740000000000002, 12.740000000000002, 11.83, 10.92, 10.01, 10, 9.100000135600556, 8.190000325441353, 8.190000325441353, 7.279999837279314, 6.370000027120111, 6.370000000000001, 4.55, 3.639999918639657, 3.639999918639657, 2.73, 2.73, 2.73, 2.729999938979741, 1.82, 1, 0, 0, 0, 0, 0, 0, 0, 0, 0, 0, 0, 0, 0, 0, 0, 0, 0, 0, 0, 0, 0, 0, 0, 0, 0, 0, 0, 0, 0, 0, 0, 0, 0, 0, 0, 0, 0, 0, 0]\n"
     ]
    }
   ],
   "source": [
    "mp_list = []\n",
    "for i in range(2, maxRow_input+1):\n",
    "    mp=sheet_input.cell(i,mp_index).value\n",
    "    mp_list.append(sheet_input.cell(i,mp_index).value)\n",
    "mp_list.sort(reverse = True)\n",
    "print(mp_list)"
   ]
  },
  {
   "cell_type": "markdown",
   "metadata": {},
   "source": [
    "# The first loop for filtering based on 'Native Language'"
   ]
  },
  {
   "cell_type": "code",
   "execution_count": 19,
   "metadata": {},
   "outputs": [
    {
     "name": "stdout",
     "output_type": "stream",
     "text": [
      "[61, 56, 28, 7]\n",
      "118\n"
     ]
    }
   ],
   "source": [
    "# longitude_list = []\n",
    "# for i in range(2, maxRow_input+1):  \n",
    "#     country = sheet_input.cell(i,country_index).value\n",
    "#     if country == \"United States\":\n",
    "#         longitude_list.append(sheet_input.cell(i,longitude_index).value)\n",
    "# median = np.median(longitude_list)\n",
    "\n",
    "# first loop\n",
    "for i in range(2, maxRow_input+1):\n",
    "    country_name = sheet_input.cell(i,country_index).value\n",
    "    lang_name = lang_dict[country_name]\n",
    "    now_lang_cnt = lang1Cnt.get(lang_name)\n",
    "    if now_lang_cnt is None:\n",
    "        continue\n",
    "    if now_lang_cnt==1:\n",
    "        for j in range(0, emps_num):\n",
    "            if lang1[j]==lang_name and emps_cnt[j] < allocation:\n",
    "                #mp_list.sort(reverse = True)\n",
    "                sheet_input.cell(i,pds_index).value=emps[j]\n",
    "                emps_cnt[j]+=1  \n",
    "                \n",
    "    elif now_lang_cnt > 1:\n",
    "        current_index = -1\n",
    "        current_cnt = -1\n",
    "        longitude = sheet_input.cell(i,longitude_index).value\n",
    "        for j in range(0, emps_num):\n",
    "            if (lang1[j]==lang_name and emps_cnt[j]<current_cnt) or (lang1[j]==lang_name and current_cnt<0):\n",
    "                if timezones_min[j] < longitude < timezones_max[j] and emps_cnt[j] < allocation:\n",
    "                    #mp_list.sort(reverse = True)\n",
    "                    current_cnt = emps_cnt[j]\n",
    "                    current_index = j\n",
    "        if current_index > -1:\n",
    "            #mp_list.sort(reverse = True)\n",
    "            sheet_input.cell(i,pds_index).value=emps[current_index]\n",
    "            emps_cnt[current_index]+=1\n",
    "\n",
    "            \n",
    "print(emps_cnt)\n",
    "print(allocation)\n",
    "input_file.save(\"/Users/donlee/Desktop/luna/updated.xlsx\")"
   ]
  },
  {
   "cell_type": "markdown",
   "metadata": {},
   "source": [
    "# The second loop for filtering based on 'Second language'"
   ]
  },
  {
   "cell_type": "code",
   "execution_count": 20,
   "metadata": {
    "scrolled": false
   },
   "outputs": [
    {
     "name": "stdout",
     "output_type": "stream",
     "text": [
      "[118, 60, 118, 118]\n",
      "118\n"
     ]
    }
   ],
   "source": [
    "for i in range(2, maxRow_input+1):\n",
    "    country_name = sheet_input.cell(i,country_index).value\n",
    "    lang_name = lang_dict[country_name]\n",
    "    #mp = sheet_input.cell(i,mp_index).value\n",
    "    now_lang_cnt2 = lang2Cnt.get(lang_name)\n",
    "    if now_lang_cnt2 is None:\n",
    "        continue\n",
    "        \n",
    "    if now_lang_cnt2==1:\n",
    "        for j in range(0, emps_num):\n",
    "            if lang2[j]==lang_name and timezones_min[j] < longitude < timezones_max[j] and emps_cnt[j] < allocation:\n",
    "                #mp_list.sort(reverse = True)\n",
    "                sheet_input.cell(i,pds_index).value=emps[j]\n",
    "                emps_cnt[j]+=1  \n",
    "                \n",
    "    elif now_lang_cnt2 > 1:\n",
    "        current_index = -1\n",
    "        current_cnt = -1\n",
    "        longitude = sheet_input.cell(i,longitude_index).value\n",
    "        for j in range(0, emps_num):\n",
    "            if (lang2[j]==lang_name and emps_cnt[j]<current_cnt) or (lang2[j]==lang_name and current_cnt<0):\n",
    "                if timezones_min[j] < longitude < timezones_max[j] and emps_cnt[j] < allocation:\n",
    "                    #mp_list.sort(reverse = True)\n",
    "                    current_cnt = emps_cnt[j]\n",
    "                    current_index = j\n",
    "        if current_index > -1:\n",
    "            #mp_list.sort(reverse = True)\n",
    "            sheet_input.cell(i,pds_index).value=emps[current_index]\n",
    "            emps_cnt[current_index]+=1\n",
    "            \n",
    "    \n",
    "            \n",
    "print(emps_cnt)\n",
    "print(allocation)\n",
    "\n",
    "input_file.save(\"/Users/donlee/Desktop/luna/updated.xlsx\")"
   ]
  },
  {
   "cell_type": "markdown",
   "metadata": {},
   "source": [
    "# Third loop for filtering based on 'Third language'"
   ]
  },
  {
   "cell_type": "code",
   "execution_count": 83,
   "metadata": {},
   "outputs": [
    {
     "name": "stdout",
     "output_type": "stream",
     "text": [
      "[98, 98, 98, 98, 97]\n",
      "98\n"
     ]
    }
   ],
   "source": [
    "for i in range(2, maxRow_input+1):\n",
    "    country_name = sheet_input.cell(i,country_index).value\n",
    "    lang_name = lang_dict[country_name]\n",
    "    now_lang_cnt3 = lang2Cnt.get(lang_name)\n",
    "    if now_lang_cnt3 is None:\n",
    "        continue\n",
    "        \n",
    "    if now_lang_cnt3==1:\n",
    "        for j in range(0, emps_num):\n",
    "            if lang3[j]==lang_name and emps_cnt[j] < allocation:\n",
    "                mp_list.sort(reverse = True)\n",
    "                sheet_input.cell(i,pds_index).value=emps[j]\n",
    "                emps_cnt[j]+=1  \n",
    "                \n",
    "    elif now_lang_cnt3 > 1:\n",
    "        current_index = -1\n",
    "        current_cnt = -1\n",
    "        longitude = sheet_input.cell(i,longitude_index).value\n",
    "        for j in range(0, emps_num):\n",
    "            if (lang3[j]==lang_name and emps_cnt[j]<current_cnt) or (lang3[j]==lang_name and current_cnt<0):\n",
    "                if timezones_min[j] < longitude < timezones_max[j] :\n",
    "                    mp_list.sort(reverse = True)\n",
    "                    current_cnt = emps_cnt[j]\n",
    "                    current_index = j\n",
    "        if current_index > -1:\n",
    "            mp_list.sort(reverse = True)\n",
    "            sheet_input.cell(i,pds_index).value=emps[current_index]\n",
    "            emps_cnt[current_index]+=1\n",
    "            \n",
    "print(emps_cnt)\n",
    "print(allocation)\n",
    "#input_file.save(\"/Users/donlee/Desktop/luna/updated.xlsx\")"
   ]
  },
  {
   "cell_type": "markdown",
   "metadata": {},
   "source": [
    "# Fourth loop for filtering based on ''Fourth language'"
   ]
  },
  {
   "cell_type": "code",
   "execution_count": 84,
   "metadata": {},
   "outputs": [
    {
     "name": "stdout",
     "output_type": "stream",
     "text": [
      "[98, 98, 98, 98, 97]\n",
      "98\n"
     ]
    }
   ],
   "source": [
    "for i in range(2, maxRow_input+1):\n",
    "    country_name = sheet_input.cell(i,country_index).value\n",
    "    lang_name = lang_dict[country_name]\n",
    "    now_lang_cnt4 = lang2Cnt.get(lang_name)\n",
    "    if now_lang_cnt4 is None:\n",
    "        continue\n",
    "        \n",
    "    if now_lang_cnt4==1:\n",
    "        for j in range(0, emps_num):\n",
    "            if lang4[j]==lang_name and emps_cnt[j] < allocation:\n",
    "                mp_list.sort(reverse = True)\n",
    "                sheet_input.cell(i,pds_index).value=emps[j]\n",
    "                emps_cnt[j]+=1  \n",
    "                \n",
    "    elif now_lang_cnt4 > 1:\n",
    "        current_index = -1\n",
    "        current_cnt = -1\n",
    "        longitude = sheet_input.cell(i,longitude_index).value\n",
    "        for j in range(0, emps_num):\n",
    "            if (lang4[j]==lang_name and emps_cnt[j]<current_cnt) or (lang4[j]==lang_name and current_cnt<0):\n",
    "                if timezones_min[j] < longitude < timezones_max[j] :\n",
    "                    mp_list.sort(reverse = True)\n",
    "                    current_cnt = emps_cnt[j]\n",
    "                    current_index = j\n",
    "        if current_index > -1:\n",
    "            mp_list.sort(reverse = True)\n",
    "            sheet_input.cell(i,pds_index).value=emps[current_index]\n",
    "            emps_cnt[current_index]+=1\n",
    "            \n",
    "print(emps_cnt)\n",
    "print(allocation)\n",
    "#input_file.save(\"/Users/donlee/Desktop/luna/updated.xlsx\")"
   ]
  },
  {
   "cell_type": "markdown",
   "metadata": {},
   "source": [
    "# Fifth loop for filtering based on ''Fifth language'"
   ]
  },
  {
   "cell_type": "code",
   "execution_count": 87,
   "metadata": {},
   "outputs": [
    {
     "name": "stdout",
     "output_type": "stream",
     "text": [
      "[98, 98, 98, 98, 97]\n",
      "98\n"
     ]
    }
   ],
   "source": [
    "for i in range(2, maxRow_input+1):\n",
    "    country_name = sheet_input.cell(i,country_index).value\n",
    "    lang_name = lang_dict[country_name]\n",
    "    now_lang_cnt5 = lang2Cnt.get(lang_name)\n",
    "    if now_lang_cnt5 is None:\n",
    "        continue\n",
    "        \n",
    "    if now_lang_cnt5==1:\n",
    "        for j in range(0, emps_num):\n",
    "            if lang4[j]==lang_name and emps_cnt[j] < allocation:\n",
    "                mp_list.sort(reverse = True)\n",
    "                sheet_input.cell(i,pds_index).value=emps[j]\n",
    "                emps_cnt[j]+=1  \n",
    "                \n",
    "    elif now_lang_cnt5 > 1:\n",
    "        current_index = -1\n",
    "        current_cnt = -1\n",
    "        longitude = sheet_input.cell(i,longitude_index).value\n",
    "        for j in range(0, emps_num):\n",
    "            if (lang5[j]==lang_name and emps_cnt[j]<current_cnt) or (lang5[j]==lang_name and current_cnt<0):\n",
    "                if timezones_min[j] < longitude < timezones_max[j] :\n",
    "                    mp_list.sort(reverse = True)\n",
    "                    current_cnt = emps_cnt[j]\n",
    "                    current_index = j\n",
    "        if current_index > -1:\n",
    "            mp_list.sort(reverse = True)\n",
    "            sheet_input.cell(i,pds_index).value=emps[current_index]\n",
    "            emps_cnt[current_index]+=1\n",
    "            \n",
    "print(emps_cnt)\n",
    "print(allocation)\n",
    "#input_file.save(\"/Users/donlee/Desktop/luna/updated.xlsx\")"
   ]
  }
 ],
 "metadata": {
  "kernelspec": {
   "display_name": "Python 3",
   "language": "python",
   "name": "python3"
  },
  "language_info": {
   "codemirror_mode": {
    "name": "ipython",
    "version": 3
   },
   "file_extension": ".py",
   "mimetype": "text/x-python",
   "name": "python",
   "nbconvert_exporter": "python",
   "pygments_lexer": "ipython3",
   "version": "3.8.5"
  }
 },
 "nbformat": 4,
 "nbformat_minor": 4
}
